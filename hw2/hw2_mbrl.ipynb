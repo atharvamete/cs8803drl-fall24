{
 "cells": [
  {
   "cell_type": "markdown",
   "metadata": {},
   "source": [
    "# Homework 2 Part 2 - Model Based Reinforcement Learning\n",
    "\n",
    "***\n",
    "\n",
    "Written by Albert Wilcox\n",
    "\n",
    "In this homework, you'll implement [PETS](https://arxiv.org/abs/1805.12114), a popular model for simple MBRL tasks.\n"
   ]
  },
  {
   "cell_type": "code",
   "execution_count": null,
   "metadata": {},
   "outputs": [],
   "source": [
    "%load_ext autoreload\n",
    "%autoreload 2"
   ]
  },
  {
   "cell_type": "code",
   "execution_count": 1,
   "metadata": {},
   "outputs": [
    {
     "name": "stderr",
     "output_type": "stream",
     "text": [
      "/home/atharva/miniconda3/envs/drl/lib/python3.10/site-packages/pygame/pkgdata.py:25: DeprecationWarning: pkg_resources is deprecated as an API. See https://setuptools.pypa.io/en/latest/pkg_resources.html\n",
      "  from pkg_resources import resource_stream, resource_exists\n",
      "/home/atharva/miniconda3/envs/drl/lib/python3.10/site-packages/Cython/Distutils/old_build_ext.py:15: DeprecationWarning: dep_util is Deprecated. Use functions from setuptools instead.\n",
      "  from distutils.dep_util import newer, newer_group\n",
      "<frozen importlib._bootstrap>:283: DeprecationWarning: the load_module() method is deprecated and slated for removal in Python 3.12; use exec_module() instead\n"
     ]
    },
    {
     "data": {
      "text/plain": [
       "<contextlib.ExitStack at 0x7f4442f35de0>"
      ]
     },
     "execution_count": 1,
     "metadata": {},
     "output_type": "execute_result"
    }
   ],
   "source": [
    "import torch\n",
    "import torch.nn as nn\n",
    "import torch.nn.functional as F\n",
    "from torch.optim import Adam\n",
    "import einops\n",
    "\n",
    "import gym\n",
    "import numpy as np\n",
    "from loguru import logger\n",
    "import matplotlib.pyplot as plt\n",
    "from IPython.display import Image\n",
    "from tqdm import tqdm, trange\n",
    "\n",
    "from typing import Tuple, Optional\n",
    "\n",
    "from src.utils import (\n",
    "    get_device,\n",
    "    set_seed,\n",
    "    demo_policy,\n",
    "    save_frames_as_gif\n",
    ")\n",
    "# Do not remove the following import\n",
    "import src.cartpole_env\n",
    "from src.mpc import MPC\n",
    "from src.mbrl_utils import sample_rollout\n",
    "from src.cartpole_env import CartpoleConfigModule\n",
    "from src.mbrl_sampler import MBRLSampler\n",
    "\n",
    "plt.ion()"
   ]
  },
  {
   "cell_type": "code",
   "execution_count": 2,
   "metadata": {},
   "outputs": [
    {
     "name": "stderr",
     "output_type": "stream",
     "text": [
      "\u001b[32m2024-11-11 21:49:10.921\u001b[0m | \u001b[1mINFO    \u001b[0m | \u001b[36msrc.utils\u001b[0m:\u001b[36mget_device\u001b[0m:\u001b[36m52\u001b[0m - \u001b[1mUsing cuda device.\u001b[0m\n",
      "\u001b[32m2024-11-11 21:49:10.923\u001b[0m | \u001b[1mINFO    \u001b[0m | \u001b[36msrc.utils\u001b[0m:\u001b[36mset_seed\u001b[0m:\u001b[36m38\u001b[0m - \u001b[1mRandom seed set as 42.\u001b[0m\n"
     ]
    }
   ],
   "source": [
    "SEED: int = 42\n",
    "ENVIRONMENT_NAME: str='MBRLCartpole-v0'\n",
    "\n",
    "# torch related defaults\n",
    "DEVICE = get_device()\n",
    "torch.set_default_dtype(torch.float32)\n",
    "\n",
    "# Use random seeds for reproducibility\n",
    "set_seed(SEED)"
   ]
  },
  {
   "cell_type": "markdown",
   "metadata": {},
   "source": [
    "As before, we start by initializing the environment and printing some useful information."
   ]
  },
  {
   "cell_type": "code",
   "execution_count": 3,
   "metadata": {},
   "outputs": [
    {
     "name": "stderr",
     "output_type": "stream",
     "text": [
      "\u001b[32m2024-11-11 21:49:13.469\u001b[0m | \u001b[1mINFO    \u001b[0m | \u001b[36m__main__\u001b[0m:\u001b[36m<module>\u001b[0m:\u001b[36m7\u001b[0m - \u001b[1mAction Dimension: 1\u001b[0m\n",
      "\u001b[32m2024-11-11 21:49:13.470\u001b[0m | \u001b[1mINFO    \u001b[0m | \u001b[36m__main__\u001b[0m:\u001b[36m<module>\u001b[0m:\u001b[36m8\u001b[0m - \u001b[1mAction High: [3.]\u001b[0m\n",
      "\u001b[32m2024-11-11 21:49:13.470\u001b[0m | \u001b[1mINFO    \u001b[0m | \u001b[36m__main__\u001b[0m:\u001b[36m<module>\u001b[0m:\u001b[36m9\u001b[0m - \u001b[1mAction Low: [-3.]\u001b[0m\n",
      "\u001b[32m2024-11-11 21:49:13.470\u001b[0m | \u001b[1mINFO    \u001b[0m | \u001b[36m__main__\u001b[0m:\u001b[36m<module>\u001b[0m:\u001b[36m10\u001b[0m - \u001b[1mState Dimension: 4\u001b[0m\n"
     ]
    }
   ],
   "source": [
    "env = gym.make(ENVIRONMENT_NAME)\n",
    "\n",
    "# get the state and action dimensions\n",
    "action_dimension = env.action_space.shape[0]\n",
    "state_dimension = env.observation_space.shape[0]\n",
    "\n",
    "logger.info(f'Action Dimension: {action_dimension}')\n",
    "logger.info(f'Action High: {env.action_space.high}')\n",
    "logger.info(f'Action Low: {env.action_space.low}')\n",
    "logger.info(f'State Dimension: {state_dimension}')"
   ]
  },
  {
   "cell_type": "markdown",
   "metadata": {},
   "source": [
    "### Part 1 - PETS\n",
    "\n",
    "In this part you'll implement the PETS (Chua et al.) dynamics model and use it for model-based control (MPC). There are several important components of this pipeline:\n",
    " * The dynamics model, discussed in more detail in Chua et al, learns to predict the next state $s_{t+1}$ conditioned on the current state-action pair $(s_t, a_t)$.\n",
    " * The cost function outputs the cost of a planned state. In the case of this environment, we provide a ground truth cost function (negative velocity), but in more complicated environments where no ground truth cost function is available it is common to learn it.\n",
    " * Cross entropy method (CEM) is a gradient-free evolutionary optimizer. We use it to optimize sequences of actions, and evaluate these sequences of actions by predicting future states after rolling out the planned actions and computing the total cost of the predicted rollout under the cost function."
   ]
  },
  {
   "cell_type": "markdown",
   "metadata": {},
   "source": [
    "The first step is to set up our probabilistic dynamics model. As described in Chua et al, this should take in a state and action and output `mean` and `log_std` for a Gaussian distribution over possible future states."
   ]
  },
  {
   "cell_type": "code",
   "execution_count": 4,
   "metadata": {},
   "outputs": [
    {
     "name": "stderr",
     "output_type": "stream",
     "text": [
      "\u001b[32m2024-11-11 21:49:17.834\u001b[0m | \u001b[1mINFO    \u001b[0m | \u001b[36msrc.utils\u001b[0m:\u001b[36mget_device\u001b[0m:\u001b[36m52\u001b[0m - \u001b[1mUsing cuda device.\u001b[0m\n"
     ]
    }
   ],
   "source": [
    "from src.networks import network\n",
    "\n",
    "class DynamicsModel(nn.Module):\n",
    "    def __init__(self, \n",
    "                 state_dimension: int, \n",
    "                 action_dimension: int,\n",
    "                 min_log_std: float = -5,\n",
    "                 max_log_std: float = 1,\n",
    "                 ):\n",
    "        super(DynamicsModel, self).__init__()\n",
    "        \n",
    "        self.min_log_std = min_log_std\n",
    "        self.max_log_std = max_log_std\n",
    "        \n",
    "        # Network outputs mean and log_std for next state distribution\n",
    "        self.network = network(\n",
    "            in_dimension=state_dimension + action_dimension,\n",
    "            out_dimension=2 * state_dimension,\n",
    "            n_hidden=2\n",
    "        )\n",
    "    \n",
    "    def forward(self, state: torch.Tensor, action: torch.Tensor) -> Tuple[torch.Tensor, torch.Tensor]:\n",
    "        \"\"\"\n",
    "        Forward pass of the dynamics network. Should return mean and log_std of the next state distribution\n",
    "\n",
    "        Args:\n",
    "            state (torch.Tensor): The input state.\n",
    "            action (torch.Tensor): The input action.\n",
    "\n",
    "        Returns:\n",
    "            Tuple[torch.Tensor, torch.Tensor]: The tuple (mean, log_std) of the distribution\n",
    "        \"\"\"\n",
    "        x = torch.cat([state, action], dim=-1)\n",
    "        out = self.network(x)\n",
    "        mean, log_std = torch.split(out, state.shape[-1], dim=-1)\n",
    "        log_std = torch.clamp(log_std, self.min_log_std, self.max_log_std)\n",
    "\n",
    "        return mean, log_std"
   ]
  },
  {
   "cell_type": "markdown",
   "metadata": {},
   "source": [
    "The next step is to create an ensemble of dynamics models. There are better ways to implement this, but for the purposes of this assignment we'll simply maintain a list of models and loop through them at inference time. If you have access to a GPU and are interested in speeding up your implementation, you might want to check out https://pytorch.org/tutorials/intermediate/ensembling.html.\n",
    "\n",
    "There are several ways to handle data for ensembles, such as partitioning the dataset or training each network on different minibatches from the same dataset. In this assignment, we randomly sample `n_ensemble` subsets of the data with replacement. For each epoch, we train each member of the ensemble on a different subset and then shuffle the subsets. To better understand this, please refer to `src/mbrl_sampler.py`.\n",
    "\n",
    "TODOs for this section:\n",
    " * Fill in the `forward` function of the dynamics model to predict the mean and log_std from each member of the ensemble for a single batch of states and actions. This is for use during training\n",
    " * Fill in the `compute_cost` function which takes in a single state and a batch of action trajectory candidates and computes the expected cost for each one by rolling out the dynamics model. You should do this using the TS-1 algorithm from Chua et al, meaning for each step you randomly sample a dynamics model from the ensemble. Note the parameter `n_particles`. For each action trajectory candidate, you should sample `n_particles` trajectories and compute the mean between their costs.\n",
    " * Note: the `compute_cost` function will involve creating some large tensors. For tensors with many dimensions to keep track of, I would highly recommend using the `einops` library for rearranging / tiling / etc."
   ]
  },
  {
   "cell_type": "code",
   "execution_count": 5,
   "metadata": {},
   "outputs": [],
   "source": [
    "class EnsembleDynamicsModel(nn.Module):\n",
    "    def __init__(self, state_dimension: int, action_dimension: int, n_ensemble: int):\n",
    "        super(EnsembleDynamicsModel, self).__init__()\n",
    "        self.num_nets = n_ensemble\n",
    "\n",
    "        # Initialize ensemble of dynamics models\n",
    "        self.models = nn.ModuleList([\n",
    "            DynamicsModel(state_dimension, action_dimension) \n",
    "            for _ in range(n_ensemble)\n",
    "        ])\n",
    "    \n",
    "    def forward(self, state: torch.Tensor, action: torch.Tensor) -> Tuple[torch.Tensor, torch.Tensor]:\n",
    "        \"\"\"\n",
    "        Forward pass of the dynamics network. Should return mean and log_std of the next state distribution for each model in the ensemble\n",
    "\n",
    "        Args:\n",
    "            state (torch.Tensor): The input state, shape (B, n_ensemble, S)\n",
    "            action (torch.Tensor): The input action, shape (B, n_ensemble, A)\n",
    "\n",
    "        Returns:\n",
    "            Tuple[torch.Tensor, torch.Tensor]: The tuple (mean, log_std) of the distributions where each have shape (B, n_ensemble, S)\n",
    "        \"\"\"\n",
    "        means = []\n",
    "        log_stds = []\n",
    "        \n",
    "        # Get predictions from each model in ensemble\n",
    "        for i in range(self.num_nets):\n",
    "            mean, log_std = self.models[i](state[:,i], action[:,i])\n",
    "            means.append(mean)\n",
    "            log_stds.append(log_std)\n",
    "            \n",
    "        mean = torch.stack(means, dim=1)  # Shape: (B, n_ensemble, S)\n",
    "        log_std = torch.stack(log_stds, dim=1)  # Shape: (B, n_ensemble, S)\n",
    "\n",
    "        return mean, log_std\n",
    "        \n",
    "    def compute_cost(\n",
    "            self, \n",
    "            state: torch.Tensor, \n",
    "            actions: torch.Tensor,\n",
    "            obs_cost_fn,\n",
    "            act_cost_fn,\n",
    "            n_particles: int = 20,\n",
    "        ) -> Tuple[torch.Tensor, torch.Tensor]:\n",
    "        \"\"\"\n",
    "        Given a state and a \n",
    "\n",
    "        Args:\n",
    "            state (torch.Tensor): The input state, shape (S,)\n",
    "            actions (torch.Tensor): The action sequence candidates, shape (N, H, A)\n",
    "            obs_cost_fn: A function which takes in a batch of states and returns the cost of each one\n",
    "            act_cost_fn: A function which takes in a batch of actions and returns the cost of each one\n",
    "            n_particles (int): how many particles to sample for each action sequence\n",
    "\n",
    "        Returns:\n",
    "            torch.Tensor: Expected cost for each action candidate, shape (N,)\n",
    "        \"\"\"\n",
    "        n_candidates, horizon, _ = actions.shape\n",
    "        \n",
    "        # Expand state and actions for particles\n",
    "        state = state.repeat(n_candidates * n_particles, 1)  # Shape: (N*P, S)\n",
    "        actions = actions.repeat_interleave(n_particles, dim=0)  # Shape: (N*P, H, A)\n",
    "        \n",
    "        total_costs = torch.zeros(n_candidates * n_particles, device=state.device)\n",
    "        curr_state = state\n",
    "\n",
    "        # Rollout trajectories\n",
    "        for t in range(horizon):\n",
    "            # Sample random model from ensemble for each particle (TS-1 algorithm)\n",
    "            particle_models = torch.randint(0, self.num_nets, (n_particles,))\n",
    "            model_indices = particle_models.repeat_interleave(n_candidates)\n",
    "            \n",
    "            # Get current action\n",
    "            curr_action = actions[:, t]\n",
    "            \n",
    "            # Get predictions from sampled models and compute next states\n",
    "            next_state = curr_state.clone()\n",
    "            for i in range(self.num_nets):\n",
    "                mask = (model_indices == i)\n",
    "                if mask.any():\n",
    "                    mean, log_std = self.models[i](curr_state[mask], curr_action[mask])\n",
    "                    std = log_std.exp()\n",
    "                    eps = torch.randn_like(mean)\n",
    "                    next_state[mask] = mean + eps * std\n",
    "            \n",
    "            # Accumulate costs\n",
    "            total_costs += obs_cost_fn(curr_state) + act_cost_fn(curr_action)\n",
    "            curr_state = next_state\n",
    "            \n",
    "        # Add final state cost\n",
    "        total_costs += obs_cost_fn(curr_state)\n",
    "        \n",
    "        # Replace NaN costs with high value\n",
    "        total_costs[torch.isnan(total_costs)] = 1e6\n",
    "        \n",
    "        # Average across particles\n",
    "        costs = total_costs.reshape(n_candidates, n_particles).mean(dim=1)\n",
    "        \n",
    "        return costs\n"
   ]
  },
  {
   "cell_type": "markdown",
   "metadata": {},
   "source": [
    "Now that we've set up everything, the last step is to train our model. In the following block we provide some hyperparameters, the ground truth cost functions, and the skeleton of the training loop. You'll need to implement the loss function yourself.\n",
    "\n",
    "Unfortunately MPC is quite slow to run, especially on a CPU. Thus, we've provided you an offline dataset so that you don't need to run the MPC policy to collect online data. The dataset should be sufficient to achieve a reward greater than 150 with a correct implementation.\n",
    "\n",
    "Note: Our implementation achieved a validation loss <0.1.\n",
    "\n",
    "The hyperparameters we provide should work well enough, but if you have access to a GPU you can improve performance by increasing `n_particles`, `popsize` and `num_elites`."
   ]
  },
  {
   "cell_type": "code",
   "execution_count": 6,
   "metadata": {},
   "outputs": [
    {
     "name": "stderr",
     "output_type": "stream",
     "text": [
      "100%|██████████████████████████████████████████████████████████████████████████████████████████████████████████| 200/200 [00:30<00:00,  6.55it/s]\n",
      "100%|██████████████████████████████████████████████████████████████████████████████████████████████████████████| 200/200 [00:30<00:00,  6.52it/s]\n",
      "100%|██████████████████████████████████████████████████████████████████████████████████████████████████████████| 200/200 [00:30<00:00,  6.54it/s]\n",
      "100%|██████████████████████████████████████████████████████████████████████████████████████████████████████████| 200/200 [00:29<00:00,  6.74it/s]\n",
      "100%|██████████████████████████████████████████████████████████████████████████████████████████████████████████| 200/200 [00:29<00:00,  6.68it/s]\n",
      "Network training: 100%|████████████████████████████████████████████████| 150/150 [03:51<00:00,  1.54s/epoch(s), Training loss=0.0947, Reward=143]\n"
     ]
    }
   ],
   "source": [
    "################################## Hyper-parameters #########################################\n",
    "\n",
    "EPOCHS = 150\n",
    "EVAL_FREQ = 30\n",
    "TASK_HORIZON = 200\n",
    "\n",
    "plan_hor = 25\n",
    "n_particles = 10\n",
    "batch_size = 32\n",
    "n_ensemble = 5\n",
    "maxiters = 5\n",
    "popsize = 100\n",
    "num_elites = 10\n",
    "\n",
    "################################### Cost Functions ###########################################\n",
    "\n",
    "sampler = MBRLSampler(torch.load('data.pkl'), n_ensemble, batch_size, DEVICE)\n",
    "\n",
    "# To make things faster for you we're providing an offline dataset that should be sufficient\n",
    "rollouts = torch.load('data.pkl')\n",
    "all_obs = np.concatenate([rollout['obs'] for rollout in rollouts], axis=0)\n",
    "all_act = np.concatenate([rollout['act'] for rollout in rollouts], axis=0)\n",
    "all_next_obs = np.concatenate([rollout['next_obs'] for rollout in rollouts], axis=0)\n",
    "\n",
    "config = CartpoleConfigModule(DEVICE)\n",
    "dynamics_model = EnsembleDynamicsModel(state_dimension, action_dimension, n_ensemble).to(DEVICE)\n",
    "optimizer = Adam(dynamics_model.parameters(), 1e-3, weight_decay=1e-4)\n",
    "policy = MPC(\n",
    "    observation_space=env.observation_space,\n",
    "    action_space=env.action_space,\n",
    "    obs_cost_fn=config.obs_cost_fn,\n",
    "    act_cost_fn=config.ac_cost_fn,\n",
    "    dynamics_model=dynamics_model,\n",
    "    plan_hor=plan_hor,\n",
    "    n_particles=n_particles,\n",
    "    max_iters=maxiters,\n",
    "    popsize=popsize,\n",
    "    num_elites=num_elites,\n",
    "    alpha=0.1,\n",
    "    device=DEVICE\n",
    ")\n",
    "\n",
    "data_len = all_obs.shape[0]\n",
    "\n",
    "epoch_range = trange(EPOCHS, unit=\"epoch(s)\", desc=\"Network training\")\n",
    "num_batch = int(np.ceil(data_len / batch_size))\n",
    "result = None\n",
    "rews = []\n",
    "\n",
    "for epoch in epoch_range:\n",
    "\n",
    "    for obs, act, next_obs in sampler:\n",
    "\n",
    "        # Compute mean and log variance predictions from dynamics model\n",
    "        mean, logvar = dynamics_model(obs, act)\n",
    "        \n",
    "        # Compute negative log likelihood loss\n",
    "        inv_var = torch.exp(-logvar)\n",
    "        nll_loss = ((mean - next_obs)**2 * inv_var + logvar).mean()\n",
    "        \n",
    "        # Update model parameters\n",
    "        optimizer.zero_grad()\n",
    "        nll_loss.backward()\n",
    "        optimizer.step()\n",
    "\n",
    "    # Compute validation MSE loss\n",
    "    # Note: this is a different loss function than the one you should implement to update the model\n",
    "    val_obs, val_act, val_next_obs = sampler.get_val_data()\n",
    "    mean, _ = dynamics_model(val_obs, val_act)\n",
    "    mse_losses = ((mean - val_next_obs) ** 2).mean()\n",
    "\n",
    "    epoch_range.set_postfix({\n",
    "        \"Training loss\": mse_losses.item(),\n",
    "        'Reward': result\n",
    "    })\n",
    "\n",
    "    # Sample an eval rollout. Note: If you are not using a GPU you should comment this out and only run eval once\n",
    "    if (epoch + 1) % EVAL_FREQ == 0:\n",
    "        info = sample_rollout(\n",
    "            env,\n",
    "            TASK_HORIZON,\n",
    "            policy=policy,\n",
    "        )\n",
    "        result = info['reward_sum']\n",
    "        rews.append(result)\n",
    "\n",
    "    if epoch==100:\n",
    "        torch.save(dynamics_model.state_dict(), 'pets_checkpoint_100.pth')\n",
    "\n",
    "torch.save(dynamics_model.state_dict(), 'pets_checkpoint.pth')\n"
   ]
  },
  {
   "cell_type": "markdown",
   "metadata": {},
   "source": [
    "Now that you've finished training your dynamics model we can visualize our MPC policy and print out the final reward.\n",
    "\n",
    "Note: If you're running this on a CPU it will likely be quite slow. I would suggest visualizing a much shorter episode and making sure that the policy looks right before running the full 200 step eval."
   ]
  },
  {
   "cell_type": "code",
   "execution_count": 7,
   "metadata": {},
   "outputs": [
    {
     "name": "stderr",
     "output_type": "stream",
     "text": [
      "100%|██████████████████████████████████████████████████████████████████████████████████████████████████████████| 200/200 [00:30<00:00,  6.50it/s]\n",
      "MovieWriter imagemagick unavailable; using Pillow instead.\n"
     ]
    },
    {
     "name": "stdout",
     "output_type": "stream",
     "text": [
      "Total Reward: 152.75848117700875\n"
     ]
    },
    {
     "data": {
      "image/gif": "[encoded data removed]",
      "text/plain": [
       "<IPython.core.display.Image object>"
      ]
     },
     "execution_count": 7,
     "metadata": {},
     "output_type": "execute_result"
    }
   ],
   "source": [
    "dynamics_model.load_state_dict(torch.load('pets_checkpoint.pth'))\n",
    "dynamics_model = dynamics_model.to(DEVICE)\n",
    "frames, total_reward = demo_policy(policy, environment_name=ENVIRONMENT_NAME, steps=200)\n",
    "gif_path = save_frames_as_gif(frames, method_name='pets')\n",
    "print('Total Reward:', total_reward)\n",
    "Image(open(gif_path,'rb').read())"
   ]
  },
  {
   "cell_type": "markdown",
   "metadata": {},
   "source": [
    "Congrats on finishing the MBRL portion of Assignment 2! Hopefully you enjoyed yourself. Make sure that the visualizations are showing, an eval with a reward greater than 150 is showing above, and that the `pets_policy.gif` is present in the outputs folder.\n",
    "\n",
    "When you're done: export this notebook as an **HTML file** for final submission."
   ]
  }
 ],
 "metadata": {
  "kernelspec": {
   "display_name": "Python 3 (ipykernel)",
   "language": "python",
   "name": "python3"
  },
  "language_info": {
   "codemirror_mode": {
    "name": "ipython",
    "version": 3
   },
   "file_extension": ".py",
   "mimetype": "text/x-python",
   "name": "python",
   "nbconvert_exporter": "python",
   "pygments_lexer": "ipython3",
   "version": "3.10.15"
  }
 },
 "nbformat": 4,
 "nbformat_minor": 2
}
